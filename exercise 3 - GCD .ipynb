{
 "cells": [
  {
   "cell_type": "code",
   "execution_count": 8,
   "id": "b49766e9",
   "metadata": {},
   "outputs": [
    {
     "name": "stdout",
     "output_type": "stream",
     "text": [
      "10\n"
     ]
    }
   ],
   "source": [
    "def gcd(a,b):\n",
    "    \n",
    "    if a == b:\n",
    "        return a\n",
    "        \n",
    "    elif a > b:\n",
    "        return gcd(a-b,b)\n",
    "    \n",
    "    else:\n",
    "        return gcd(a,b-a)\n",
    "\n",
    "a = 100\n",
    "b = 10\n",
    "\n",
    "print(gcd(a,b))"
   ]
  },
  {
   "cell_type": "code",
   "execution_count": 41,
   "id": "5febb040",
   "metadata": {
    "scrolled": true
   },
   "outputs": [
    {
     "ename": "SyntaxError",
     "evalue": "invalid syntax (1311800321.py, line 20)",
     "output_type": "error",
     "traceback": [
      "\u001b[1;36m  Cell \u001b[1;32mIn[41], line 20\u001b[1;36m\u001b[0m\n\u001b[1;33m    print('GCD is', <b> gcd(a,b))\u001b[0m\n\u001b[1;37m                    ^\u001b[0m\n\u001b[1;31mSyntaxError\u001b[0m\u001b[1;31m:\u001b[0m invalid syntax\n"
     ]
    }
   ],
   "source": [
    "# uwzgledniajac, ze a i b moga miec wartosc 0\n",
    "\n",
    "def gcd(a,b):\n",
    "    \n",
    "    if a == 0:\n",
    "        return b\n",
    "    \n",
    "    elif b == 0:\n",
    "        return a\n",
    "        \n",
    "    elif a > b:\n",
    "        return gcd(a-b,b)\n",
    "    \n",
    "    else:\n",
    "        return gcd(a,b-a)\n",
    "    \n",
    "a = 0\n",
    "b = 12\n",
    "\n",
    "print('GCD is', gcd(a,b))"
   ]
  }
 ],
 "metadata": {
  "kernelspec": {
   "display_name": "Python 3 (ipykernel)",
   "language": "python",
   "name": "python3"
  },
  "language_info": {
   "codemirror_mode": {
    "name": "ipython",
    "version": 3
   },
   "file_extension": ".py",
   "mimetype": "text/x-python",
   "name": "python",
   "nbconvert_exporter": "python",
   "pygments_lexer": "ipython3",
   "version": "3.10.9"
  }
 },
 "nbformat": 4,
 "nbformat_minor": 5
}
