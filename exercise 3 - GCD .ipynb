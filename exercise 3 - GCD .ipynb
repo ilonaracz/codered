{
 "cells": [
  {
   "cell_type": "code",
   "execution_count": 8,
   "id": "2065dc3a",
   "metadata": {},
   "outputs": [
    {
     "name": "stdout",
     "output_type": "stream",
     "text": [
      "10\n"
     ]
    }
   ],
   "source": [
    "def gcd(a,b):\n",
    "    \n",
    "    if a == b:\n",
    "        return a\n",
    "        \n",
    "    elif a > b:\n",
    "        return gcd(a-b,b)\n",
    "    \n",
    "    else:\n",
    "        return gcd(a,b-a)\n",
    "\n",
    "a = 100\n",
    "b = 10\n",
    "\n",
    "print(gcd(a,b))"
   ]
  },
  {
   "cell_type": "code",
   "execution_count": 42,
   "id": "667092b0",
   "metadata": {
    "scrolled": true
   },
   "outputs": [
    {
     "name": "stdout",
     "output_type": "stream",
     "text": [
      "GCD is 12\n"
     ]
    }
   ],
   "source": [
    "# uwzgledniajac, ze a i b moga miec wartosc 0\n",
    "\n",
    "def gcd(a,b):\n",
    "    \n",
    "    if a == 0:\n",
    "        return b\n",
    "    \n",
    "    elif b == 0:\n",
    "        return a\n",
    "        \n",
    "    elif a > b:\n",
    "        return gcd(a-b,b)\n",
    "    \n",
    "    else:\n",
    "        return gcd(a,b-a)\n",
    "    \n",
    "a = 0\n",
    "b = 12\n",
    "\n",
    "print('GCD is', gcd(a,b))"
   ]
  }
 ],
 "metadata": {
  "kernelspec": {
   "display_name": "Python 3 (ipykernel)",
   "language": "python",
   "name": "python3"
  },
  "language_info": {
   "codemirror_mode": {
    "name": "ipython",
    "version": 3
   },
   "file_extension": ".py",
   "mimetype": "text/x-python",
   "name": "python",
   "nbconvert_exporter": "python",
   "pygments_lexer": "ipython3",
   "version": "3.10.9"
  }
 },
 "nbformat": 4,
 "nbformat_minor": 5
}
