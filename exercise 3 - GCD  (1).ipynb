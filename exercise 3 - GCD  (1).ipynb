{
 "cells": [
  {
   "cell_type": "code",
   "execution_count": 54,
   "id": "de47e0cc",
   "metadata": {},
   "outputs": [
    {
     "name": "stdout",
     "output_type": "stream",
     "text": [
      "21\n"
     ]
    }
   ],
   "source": [
    "def dzielnik(a,b):\n",
    "    \n",
    "    if a == b:\n",
    "        return a\n",
    "        \n",
    "    elif a > b:\n",
    "        return fun(a-b,b)\n",
    "    \n",
    "    else:\n",
    "        return fun(a,b-a)\n",
    "\n",
    "a = 21\n",
    "b = 63\n",
    "\n",
    "print(fun(a,b))"
   ]
  },
  {
   "cell_type": "code",
   "execution_count": 11,
   "id": "92dd7231",
   "metadata": {
    "scrolled": true
   },
   "outputs": [
    {
     "name": "stdout",
     "output_type": "stream",
     "text": [
      "GCD is 12\n"
     ]
    }
   ],
   "source": [
    "# uwzgledniajac, ze a i b moga miec wartosc 0\n",
    "\n",
    "def gcd(a,b):\n",
    "    \n",
    "    if a == 0:\n",
    "        return b\n",
    "    \n",
    "    if b == 0:\n",
    "        return a\n",
    "    \n",
    "    if a == b:\n",
    "        return a\n",
    "        \n",
    "    if a > b:\n",
    "        return gcd(a-b,b)\n",
    "    \n",
    "    else:\n",
    "        return gcd(a,b-a)\n",
    "    \n",
    "a = 12\n",
    "b = 12\n",
    "\n",
    "print('GCD is', gcd(a,b))"
   ]
  }
 ],
 "metadata": {
  "kernelspec": {
   "display_name": "Python 3 (ipykernel)",
   "language": "python",
   "name": "python3"
  },
  "language_info": {
   "codemirror_mode": {
    "name": "ipython",
    "version": 3
   },
   "file_extension": ".py",
   "mimetype": "text/x-python",
   "name": "python",
   "nbconvert_exporter": "python",
   "pygments_lexer": "ipython3",
   "version": "3.10.9"
  }
 },
 "nbformat": 4,
 "nbformat_minor": 5
}
